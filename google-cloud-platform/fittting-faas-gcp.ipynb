{
 "cells": [
  {
   "cell_type": "markdown",
   "id": "76c446f6-2276-4cf0-87a0-db423ad49a99",
   "metadata": {},
   "source": [
    "# Create an exclusion plot using fits distributed on GCP"
   ]
  },
  {
   "cell_type": "code",
   "execution_count": null,
   "id": "respiratory-quantum",
   "metadata": {},
   "outputs": [],
   "source": [
    "import os\n",
    "import glob\n",
    "import json\n",
    "import time\n",
    "import sys\n",
    "import asyncio\n",
    "import numpy as np\n",
    "import matplotlib.pyplot as plt\n",
    "import time\n",
    "import glob\n",
    "import asyncio\n",
    "import aiohttp\n",
    "import random\n",
    "import time\n",
    "\n",
    "%matplotlib notebook"
   ]
  },
  {
   "cell_type": "code",
   "execution_count": null,
   "id": "d28fe898-c7d6-49e5-a1bd-cce4cebbf228",
   "metadata": {},
   "outputs": [],
   "source": [
    "data_live = None\n",
    "done_live = None\n",
    "\n",
    "\n",
    "def reset_data_live():\n",
    "    global data_live\n",
    "    global done_live\n",
    "    data_live = {\"A\": {}, \"C\": {}}\n",
    "    done_live = {\"A\": False, \"C\": False}"
   ]
  },
  {
   "cell_type": "code",
   "execution_count": null,
   "id": "ff418ed4-d1e7-4812-9cf6-4700ff127ae5",
   "metadata": {},
   "outputs": [],
   "source": [
    "async def from_online(key, session, url, patch):\n",
    "    region = url[-1]\n",
    "    resp = await session.post(url, data=patch)\n",
    "    result = (resp.status, await resp.json())\n",
    "    data_live[region][key] = result\n",
    "    return result"
   ]
  },
  {
   "cell_type": "code",
   "execution_count": null,
   "id": "4fb18749-89f6-493f-9729-8aabaa6b2e09",
   "metadata": {},
   "outputs": [],
   "source": [
    "async def fetch_html(url: str, session: aiohttp.ClientSession, patch) -> tuple:\n",
    "    key, patch = patch\n",
    "    for i in range(10):\n",
    "        try:\n",
    "            result = (key, await from_online(key, session, url, patch))\n",
    "            return result\n",
    "        except:\n",
    "            pass\n",
    "    return (\"404\", (key, {}))"
   ]
  },
  {
   "cell_type": "code",
   "execution_count": null,
   "id": "978e5c7e-bc81-4ef1-a647-78001322fb94",
   "metadata": {},
   "outputs": [],
   "source": [
    "async def make_requests(url, patches: set, **kwargs) -> None:\n",
    "    async with aiohttp.ClientSession(\n",
    "        headers={\"Content-Type\": \"application/json\"}\n",
    "    ) as session:\n",
    "        tasks = []\n",
    "        for patch in patches:\n",
    "            tasks.append(\n",
    "                fetch_html(\n",
    "                    url=url,\n",
    "                    session=session,\n",
    "                    patch=patch,\n",
    "                )\n",
    "            )\n",
    "\n",
    "        results = await asyncio.gather(*tasks)\n",
    "    return results"
   ]
  },
  {
   "cell_type": "code",
   "execution_count": null,
   "id": "c9a03d52-7407-4abb-b515-5b7d683a3f77",
   "metadata": {},
   "outputs": [],
   "source": [
    "async def run_region(region=\"A\"):\n",
    "    start = time.time()\n",
    "    patches = list(\n",
    "        {\n",
    "            x: open(x).read()\n",
    "            for x in glob.glob(f\"Region{region}/patch.sbottom_*_60.json\")\n",
    "        }.items()\n",
    "    )\n",
    "    print(f\"Number of Patches: {len(patches)}\")\n",
    "    results = await make_requests(f\"{FITTING_SVC}/region{region}\", patches[:])\n",
    "    all_ok = np.all([x[1][0] == 200 for x in results])\n",
    "    print(f\"->Number of Results: {len(results)} {time.time()-start} | {all_ok}\")\n",
    "    done_live[region] = True\n",
    "    return results"
   ]
  },
  {
   "cell_type": "code",
   "execution_count": null,
   "id": "09294c71-62eb-4c20-a843-0d605ea451b2",
   "metadata": {},
   "outputs": [],
   "source": [
    "def plot(ax, data, color=\"steelblue\", label=\"(in progress)\", showInterPolated=True):\n",
    "    ax.cla()\n",
    "\n",
    "    hdata = [\n",
    "        (\n",
    "            \"regionA\",\n",
    "            [make_harvest_from_result(k, r[1]) for k, r in data_live[\"A\"].items()],\n",
    "        ),\n",
    "        (\n",
    "            \"regionC\",\n",
    "            [make_harvest_from_result(k, r[1]) for k, r in data_live[\"C\"].items()],\n",
    "        ),\n",
    "    ]\n",
    "\n",
    "    if len(hdata[0][1]) > 3 and len(hdata[1][1]) > 3:\n",
    "        make_plot(\n",
    "            ax,\n",
    "            dataList=hdata,\n",
    "            label=f\"Open Likelihood {label}\",\n",
    "            color=color,\n",
    "            showPoints=True,\n",
    "            showInterPolated=showInterPolated,\n",
    "        )\n",
    "    else:\n",
    "        apply_decorations(ax, label=f\"Open Likelihood {label}\")\n",
    "    ax.text(\n",
    "        0.5,\n",
    "        0,\n",
    "        f'{len(data_live[\"A\"])+len(data_live[\"C\"])}/{len(data_live[\"A\"])},{len(data_live[\"C\"])}',\n",
    "    )\n",
    "    fig.set_tight_layout(True)\n",
    "    fig.canvas.draw()"
   ]
  },
  {
   "cell_type": "code",
   "execution_count": null,
   "id": "3aead879-4e06-4bd4-a9a0-041f6b3e0d0f",
   "metadata": {},
   "outputs": [],
   "source": [
    "async def plotting_loop():\n",
    "    global data_live\n",
    "    global done_live\n",
    "    while not (done_live[\"A\"] and done_live[\"C\"]):\n",
    "        plot(ax, data_live, showInterPolated=True)\n",
    "        await asyncio.sleep(1.0)\n",
    "    plot(ax, data_live, color=\"gold\", label=\"\")\n",
    "    print(\"done plotting\")"
   ]
  },
  {
   "cell_type": "code",
   "execution_count": null,
   "id": "collect-poker",
   "metadata": {},
   "outputs": [],
   "source": [
    "# cloud resources to re-perform stat. analysis\n",
    "FITTING_SVC = os.getenv(\"FITTING_SERVICE_URL\")\n",
    "\n",
    "# source likelihoods needed to reproduce results\n",
    "LIKELIHOOD = \"https://www.hepdata.net/record/resource/997020?view=true\"\n",
    "\n",
    "# download the likelihood\n",
    "!curl -s {LIKELIHOOD} | tar -xzf -"
   ]
  },
  {
   "cell_type": "code",
   "execution_count": null,
   "id": "satellite-dressing",
   "metadata": {},
   "outputs": [],
   "source": [
    "from plotting import make_harvest_from_result, make_plot, apply_decorations\n",
    "\n",
    "fig, ax = plt.subplots(1, 1)\n",
    "fig.set_size_inches(9.33, 7)\n",
    "apply_decorations(ax, label=\"Open Likelihood (in progress)\")\n",
    "fig.set_tight_layout(True)"
   ]
  },
  {
   "cell_type": "code",
   "execution_count": null,
   "id": "rotary-minutes",
   "metadata": {},
   "outputs": [],
   "source": [
    "reset_data_live()\n",
    "plot(ax, data_live)\n",
    "start = time.time()\n",
    "results = await asyncio.gather(run_region(\"A\"), run_region(\"C\"), plotting_loop())\n",
    "time.time() - start"
   ]
  },
  {
   "cell_type": "code",
   "execution_count": null,
   "id": "298e840a-9028-4001-b7f1-fcf145d8c385",
   "metadata": {},
   "outputs": [],
   "source": [
    "fig.savefig(\"public_likelihood.png\")"
   ]
  }
 ],
 "metadata": {
  "kernelspec": {
   "display_name": "Python 3 (ipykernel)",
   "language": "python",
   "name": "python3"
  },
  "language_info": {
   "codemirror_mode": {
    "name": "ipython",
    "version": 3
   },
   "file_extension": ".py",
   "mimetype": "text/x-python",
   "name": "python",
   "nbconvert_exporter": "python",
   "pygments_lexer": "ipython3",
   "version": "3.8.7"
  }
 },
 "nbformat": 4,
 "nbformat_minor": 5
}
