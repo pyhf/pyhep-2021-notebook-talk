{
 "cells": [
  {
   "cell_type": "markdown",
   "id": "permanent-radiation",
   "metadata": {},
   "source": [
    "# [Distributed statistical inference with `pyhf`](https://indico.cern.ch/event/1019958/contributions/4418598/)"
   ]
  },
  {
   "cell_type": "code",
   "execution_count": null,
   "id": "pending-motel",
   "metadata": {},
   "outputs": [],
   "source": [
    "import pyhf\n",
    "import funcx\n",
    "from funcx.sdk.client import FuncXClient"
   ]
  },
  {
   "cell_type": "markdown",
   "id": "minimal-claim",
   "metadata": {},
   "source": [
    "## Demo of `funcX`"
   ]
  },
  {
   "cell_type": "markdown",
   "id": "white-virtue",
   "metadata": {},
   "source": [
    "### Endpoint Creation"
   ]
  },
  {
   "cell_type": "markdown",
   "id": "located-relevance",
   "metadata": {},
   "source": [
    "With `funcX` endpoint software installed, you need to create a template environment for your endpoint."
   ]
  },
  {
   "cell_type": "markdown",
   "id": "confident-boring",
   "metadata": {},
   "source": [
    "```\n",
    "$ funcx-endpoint configure pyhf\n",
    "```"
   ]
  },
  {
   "cell_type": "markdown",
   "id": "adopted-comfort",
   "metadata": {},
   "source": [
    "which will create a default `funcX` configuration file at `~/.funcx/pyhf/config.py`."
   ]
  },
  {
   "cell_type": "markdown",
   "id": "reverse-handling",
   "metadata": {},
   "source": [
    "```\n",
    "A default profile has been create for <pyhf> at /home/jovyan/.funcx/pyhf/config.py\n",
    "Configure this file and try restarting with:\n",
    "    $ funcx-endpoint start pyhf\n",
    "```"
   ]
  },
  {
   "cell_type": "markdown",
   "id": "intense-bullet",
   "metadata": {},
   "source": [
    "> If you're following along you'll want to switch over to a terminal to make this part easier"
   ]
  },
  {
   "cell_type": "code",
   "execution_count": null,
   "id": "photographic-halifax",
   "metadata": {},
   "outputs": [],
   "source": [
    "! echo \"funcx-endpoint configure pyhf\"\n",
    "! ls -l ~/.funcx/pyhf/config.py"
   ]
  },
  {
   "cell_type": "code",
   "execution_count": null,
   "id": "verbal-surname",
   "metadata": {},
   "outputs": [],
   "source": [
    "! cat ~/.funcx/pyhf/config.py"
   ]
  },
  {
   "cell_type": "markdown",
   "id": "reasonable-basics",
   "metadata": {},
   "source": [
    "We'll go a step further though and use a prepared `funcX` configuration found under `funcX/binder-config.py`."
   ]
  },
  {
   "cell_type": "code",
   "execution_count": null,
   "id": "colored-venezuela",
   "metadata": {},
   "outputs": [],
   "source": [
    "! cp funcX/binder-config.py ~/.funcx/pyhf/config.py"
   ]
  },
  {
   "cell_type": "markdown",
   "id": "organic-going",
   "metadata": {},
   "source": [
    "and then start the endpoint"
   ]
  },
  {
   "cell_type": "code",
   "execution_count": null,
   "id": "handled-content",
   "metadata": {},
   "outputs": [],
   "source": [
    "! funcx-endpoint start pyhf"
   ]
  },
  {
   "cell_type": "markdown",
   "id": "automotive-maria",
   "metadata": {},
   "source": [
    "**N.B.**: You'll want to take careful note of this `uuid` as this is the endpoint ID that you'll have your `funcX` code use.\n",
    "\n",
    "A good way to deal with this is to save it in a `endpoint_id.txt` file that is ignored from version control."
   ]
  },
  {
   "cell_type": "code",
   "execution_count": null,
   "id": "technical-swing",
   "metadata": {},
   "outputs": [],
   "source": [
    "! echo \"uuid-number-goes-here\" > endpoint_id.txt"
   ]
  },
  {
   "cell_type": "markdown",
   "id": "divine-ethernet",
   "metadata": {},
   "source": [
    "## Using funcX for (Fitting) Functions as a Service (FaaS)"
   ]
  },
  {
   "cell_type": "markdown",
   "id": "included-automation",
   "metadata": {},
   "source": [
    "### Prepare Functions"
   ]
  },
  {
   "cell_type": "code",
   "execution_count": null,
   "id": "respected-theta",
   "metadata": {},
   "outputs": [],
   "source": [
    "def simple_example(backend=\"numpy\", test_poi=1.0):\n",
    "    import time\n",
    "    import pyhf\n",
    "\n",
    "    pyhf.set_backend(backend)\n",
    "\n",
    "    tick = time.time()\n",
    "    model = pyhf.simplemodels.uncorrelated_background(\n",
    "        signal=[12.0, 11.0], bkg=[50.0, 52.0], bkg_uncertainty=[3.0, 7.0]\n",
    "    )\n",
    "\n",
    "    data = model.expected_data(model.config.suggested_init())\n",
    "    return {\n",
    "        \"cls_obs\": float(\n",
    "            pyhf.infer.hypotest(test_poi, data, model, test_stat=\"qtilde\")\n",
    "        ),\n",
    "        \"fit-time\": time.time() - tick,\n",
    "    }"
   ]
  },
  {
   "cell_type": "code",
   "execution_count": null,
   "id": "useful-guyana",
   "metadata": {},
   "outputs": [],
   "source": [
    "simple_example()"
   ]
  },
  {
   "cell_type": "code",
   "execution_count": null,
   "id": "prostate-occasions",
   "metadata": {},
   "outputs": [],
   "source": [
    "# Initialize funcX client\n",
    "fxc = FuncXClient()\n",
    "fxc.max_requests = 200"
   ]
  },
  {
   "cell_type": "code",
   "execution_count": null,
   "id": "postal-composite",
   "metadata": {},
   "outputs": [],
   "source": [
    "with open(\"endpoint_id.txt\") as endpoint_file:\n",
    "    pyhf_endpoint = str(endpoint_file.read().rstrip())"
   ]
  },
  {
   "cell_type": "code",
   "execution_count": null,
   "id": "exempt-tuning",
   "metadata": {},
   "outputs": [],
   "source": [
    "# register functions\n",
    "infer_func = fxc.register_function(simple_example)"
   ]
  },
  {
   "cell_type": "code",
   "execution_count": null,
   "id": "above-default",
   "metadata": {},
   "outputs": [],
   "source": [
    "# Run on endpoint\n",
    "fxc.run(\"numpy\", 1.0, endpoint_id=pyhf_endpoint, function_id=infer_func)"
   ]
  }
 ],
 "metadata": {
  "interpreter": {
   "hash": "bc61916ede75e2919ff33a1a319d3383b922e98fc54d7ec17a2c0b8a4b2de96d"
  },
  "kernelspec": {
   "display_name": "Python 3",
   "language": "python",
   "name": "python3"
  },
  "language_info": {
   "codemirror_mode": {
    "name": "ipython",
    "version": 3
   },
   "file_extension": ".py",
   "mimetype": "text/x-python",
   "name": "python",
   "nbconvert_exporter": "python",
   "pygments_lexer": "ipython3",
   "version": "3.7.10"
  }
 },
 "nbformat": 4,
 "nbformat_minor": 5
}
