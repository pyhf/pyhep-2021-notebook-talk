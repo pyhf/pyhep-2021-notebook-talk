{
 "cells": [
  {
   "cell_type": "markdown",
   "id": "dad68547",
   "metadata": {},
   "source": [
    "# [Distributed statistical inference with `pyhf`](https://indico.cern.ch/event/1019958/contributions/4418598/)"
   ]
  },
  {
   "cell_type": "code",
   "execution_count": null,
   "id": "c2d6451c",
   "metadata": {},
   "outputs": [],
   "source": [
    "import pyhf\n",
    "import funcx"
   ]
  }
 ],
 "metadata": {
  "kernelspec": {
   "display_name": "Python 3 (ipykernel)",
   "language": "python",
   "name": "python3"
  },
  "language_info": {
   "codemirror_mode": {
    "name": "ipython",
    "version": 3
   },
   "file_extension": ".py",
   "mimetype": "text/x-python",
   "name": "python",
   "nbconvert_exporter": "python",
   "pygments_lexer": "ipython3",
   "version": "3.8.7"
  }
 },
 "nbformat": 4,
 "nbformat_minor": 5
}
