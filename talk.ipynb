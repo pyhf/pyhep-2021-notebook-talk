{
 "cells": [
  {
   "cell_type": "markdown",
   "id": "infinite-complement",
   "metadata": {},
   "source": [
    "# [Distributed statistical inference with `pyhf`](https://indico.cern.ch/event/1019958/contributions/4418598/)"
   ]
  },
  {
   "cell_type": "code",
   "execution_count": null,
   "id": "interstate-concrete",
   "metadata": {},
   "outputs": [],
   "source": [
    "import pyhf\n",
    "import funcx\n",
    "from funcx.sdk.client import FuncXClient\n",
    "from time import sleep"
   ]
  },
  {
   "cell_type": "markdown",
   "id": "alone-adams",
   "metadata": {},
   "source": [
    "## Demo of `funcX`"
   ]
  },
  {
   "cell_type": "markdown",
   "id": "affecting-thickness",
   "metadata": {},
   "source": [
    "### Endpoint Creation"
   ]
  },
  {
   "cell_type": "markdown",
   "id": "baking-squad",
   "metadata": {},
   "source": [
    "With the `funcx-endpoint` CLI API"
   ]
  },
  {
   "cell_type": "code",
   "execution_count": null,
   "id": "periodic-devices",
   "metadata": {},
   "outputs": [],
   "source": [
    "! funcx-endpoint --help"
   ]
  },
  {
   "cell_type": "markdown",
   "id": "strategic-portuguese",
   "metadata": {},
   "source": [
    "you need to create a template environment for your endpoint."
   ]
  },
  {
   "cell_type": "markdown",
   "id": "alien-deadline",
   "metadata": {},
   "source": [
    "```\n",
    "$ funcx-endpoint configure pyhf\n",
    "```"
   ]
  },
  {
   "cell_type": "markdown",
   "id": "cultural-decrease",
   "metadata": {},
   "source": [
    "Which will create a default `funcX` configuration file at `~/.funcx/pyhf/config.py`."
   ]
  },
  {
   "cell_type": "markdown",
   "id": "decimal-garage",
   "metadata": {},
   "source": [
    "```\n",
    "A default profile has been create for <pyhf> at /home/jovyan/.funcx/pyhf/config.py\n",
    "Configure this file and try restarting with:\n",
    "    $ funcx-endpoint start pyhf\n",
    "```"
   ]
  },
  {
   "cell_type": "markdown",
   "id": "rocky-patient",
   "metadata": {},
   "source": [
    "> If you're following along you'll want to switch over to a terminal to make this part easier"
   ]
  },
  {
   "cell_type": "code",
   "execution_count": null,
   "id": "acting-inspiration",
   "metadata": {},
   "outputs": [],
   "source": [
    "! echo \"funcx-endpoint configure pyhf\"\n",
    "! ls -l ~/.funcx/pyhf/config.py"
   ]
  },
  {
   "cell_type": "code",
   "execution_count": null,
   "id": "driving-header",
   "metadata": {},
   "outputs": [],
   "source": [
    "! cat ~/.funcx/pyhf/config.py"
   ]
  },
  {
   "cell_type": "markdown",
   "id": "funny-rental",
   "metadata": {},
   "source": [
    "We'll go a step further though and use a prepared `funcX` configuration found under `funcX/binder-config.py`."
   ]
  },
  {
   "cell_type": "code",
   "execution_count": null,
   "id": "expired-homeless",
   "metadata": {},
   "outputs": [],
   "source": [
    "! cp funcX/binder-config.py ~/.funcx/pyhf/config.py"
   ]
  },
  {
   "cell_type": "markdown",
   "id": "blind-reservation",
   "metadata": {},
   "source": [
    "and then start the endpoint"
   ]
  },
  {
   "cell_type": "code",
   "execution_count": null,
   "id": "polish-isolation",
   "metadata": {},
   "outputs": [],
   "source": [
    "! funcx-endpoint start pyhf"
   ]
  },
  {
   "cell_type": "markdown",
   "id": "supposed-drunk",
   "metadata": {},
   "source": [
    "and you can verify that it is registered and up"
   ]
  },
  {
   "cell_type": "code",
   "execution_count": null,
   "id": "equal-therapist",
   "metadata": {},
   "outputs": [],
   "source": [
    "! funcx-endpoint list"
   ]
  },
  {
   "cell_type": "markdown",
   "id": "north-senegal",
   "metadata": {},
   "source": [
    "**N.B.**: You'll want to take careful note of this `uuid` as this is the endpoint ID that you'll have your `funcX` code use.\n",
    "\n",
    "A good way to deal with this is to save it in a `endpoint_id.txt` file that is ignored from version control."
   ]
  },
  {
   "cell_type": "code",
   "execution_count": null,
   "id": "behind-examination",
   "metadata": {},
   "outputs": [],
   "source": [
    "! funcx-endpoint list | grep pyhf | awk '{print $(NF-1)}' > endpoint_id.txt\n",
    "! cat endpoint_id.txt"
   ]
  },
  {
   "cell_type": "markdown",
   "id": "african-vietnamese",
   "metadata": {},
   "source": [
    "## Using funcX for (Fitting) Functions as a Service (FaaS)"
   ]
  },
  {
   "cell_type": "markdown",
   "id": "suited-prefix",
   "metadata": {},
   "source": [
    "### Prepare Functions"
   ]
  },
  {
   "cell_type": "code",
   "execution_count": null,
   "id": "drawn-witch",
   "metadata": {},
   "outputs": [],
   "source": [
    "def simple_example(backend=\"numpy\", test_poi=1.0):\n",
    "    import time\n",
    "    import pyhf\n",
    "\n",
    "    pyhf.set_backend(backend)\n",
    "\n",
    "    tick = time.time()\n",
    "    model = pyhf.simplemodels.uncorrelated_background(\n",
    "        signal=[12.0, 11.0], bkg=[50.0, 52.0], bkg_uncertainty=[3.0, 7.0]\n",
    "    )\n",
    "\n",
    "    data = model.expected_data(model.config.suggested_init())\n",
    "    return {\n",
    "        \"cls_obs\": float(\n",
    "            pyhf.infer.hypotest(test_poi, data, model, test_stat=\"qtilde\")\n",
    "        ),\n",
    "        \"fit-time\": time.time() - tick,\n",
    "    }"
   ]
  },
  {
   "cell_type": "code",
   "execution_count": null,
   "id": "canadian-visitor",
   "metadata": {},
   "outputs": [],
   "source": [
    "simple_example()"
   ]
  },
  {
   "cell_type": "code",
   "execution_count": null,
   "id": "adequate-jackson",
   "metadata": {},
   "outputs": [],
   "source": [
    "# Initialize funcX client\n",
    "fxc = FuncXClient()\n",
    "fxc.max_requests = 200"
   ]
  },
  {
   "cell_type": "code",
   "execution_count": null,
   "id": "inclusive-poster",
   "metadata": {},
   "outputs": [],
   "source": [
    "with open(\"endpoint_id.txt\") as endpoint_file:\n",
    "    pyhf_endpoint = str(endpoint_file.read().rstrip())"
   ]
  },
  {
   "cell_type": "code",
   "execution_count": null,
   "id": "facial-vulnerability",
   "metadata": {},
   "outputs": [],
   "source": [
    "# register functions\n",
    "infer_func = fxc.register_function(simple_example)"
   ]
  },
  {
   "cell_type": "code",
   "execution_count": null,
   "id": "checked-overhead",
   "metadata": {},
   "outputs": [],
   "source": [
    "# Run on endpoint\n",
    "task_id = fxc.run(\n",
    "    backend=\"numpy\", test_poi=1.0, endpoint_id=pyhf_endpoint, function_id=infer_func\n",
    ")"
   ]
  },
  {
   "cell_type": "code",
   "execution_count": null,
   "id": "loaded-means",
   "metadata": {},
   "outputs": [],
   "source": [
    "# wait for it to run\n",
    "sleep(1)"
   ]
  },
  {
   "cell_type": "code",
   "execution_count": null,
   "id": "curious-polish",
   "metadata": {},
   "outputs": [],
   "source": [
    "# retrieve output\n",
    "result = fxc.get_result(task_id)"
   ]
  },
  {
   "cell_type": "code",
   "execution_count": null,
   "id": "employed-creek",
   "metadata": {},
   "outputs": [],
   "source": [
    "result"
   ]
  },
  {
   "cell_type": "code",
   "execution_count": null,
   "id": "drawn-alabama",
   "metadata": {},
   "outputs": [],
   "source": [
    "# Run a different test POI\n",
    "task_id = fxc.run(\n",
    "    backend=\"numpy\", test_poi=2.0, endpoint_id=pyhf_endpoint, function_id=infer_func\n",
    ")\n",
    "sleep(5)\n",
    "result = fxc.get_result(task_id)"
   ]
  },
  {
   "cell_type": "code",
   "execution_count": null,
   "id": "adult-region",
   "metadata": {},
   "outputs": [],
   "source": [
    "result"
   ]
  },
  {
   "cell_type": "markdown",
   "id": "intelligent-novel",
   "metadata": {},
   "source": [
    "## funcX endpoint shutdown"
   ]
  },
  {
   "cell_type": "markdown",
   "id": "opposed-fleet",
   "metadata": {},
   "source": [
    "To stop a funcX endpoint from running simple use the `funcx-endpoint` CLI API again"
   ]
  },
  {
   "cell_type": "code",
   "execution_count": null,
   "id": "conventional-favorite",
   "metadata": {},
   "outputs": [],
   "source": [
    "! funcx-endpoint stop pyhf\n",
    "! funcx-endpoint list"
   ]
  }
 ],
 "metadata": {
  "interpreter": {
   "hash": "bc61916ede75e2919ff33a1a319d3383b922e98fc54d7ec17a2c0b8a4b2de96d"
  },
  "kernelspec": {
   "display_name": "Python 3",
   "language": "python",
   "name": "python3"
  },
  "language_info": {
   "codemirror_mode": {
    "name": "ipython",
    "version": 3
   },
   "file_extension": ".py",
   "mimetype": "text/x-python",
   "name": "python",
   "nbconvert_exporter": "python",
   "pygments_lexer": "ipython3",
   "version": "3.7.10"
  }
 },
 "nbformat": 4,
 "nbformat_minor": 5
}
