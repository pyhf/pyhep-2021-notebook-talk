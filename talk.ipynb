{
 "cells": [
  {
   "cell_type": "markdown",
   "id": "medical-girlfriend",
   "metadata": {},
   "source": [
    "# [Distributed statistical inference with `pyhf`](https://indico.cern.ch/event/1019958/contributions/4418598/)"
   ]
  },
  {
   "cell_type": "code",
   "execution_count": null,
   "id": "negative-cherry",
   "metadata": {},
   "outputs": [],
   "source": [
    "from time import sleep\n",
    "\n",
    "import funcx\n",
    "import pyhf\n",
    "from funcx.sdk.client import FuncXClient"
   ]
  },
  {
   "cell_type": "markdown",
   "id": "jewish-statistics",
   "metadata": {},
   "source": [
    "## Demo of `funcX`"
   ]
  },
  {
   "cell_type": "markdown",
   "id": "noticed-variable",
   "metadata": {},
   "source": [
    "### Endpoint Creation"
   ]
  },
  {
   "cell_type": "markdown",
   "id": "european-comedy",
   "metadata": {},
   "source": [
    "With the `funcx-endpoint` CLI API"
   ]
  },
  {
   "cell_type": "code",
   "execution_count": null,
   "id": "mighty-canberra",
   "metadata": {},
   "outputs": [],
   "source": [
    "! funcx-endpoint --help"
   ]
  },
  {
   "cell_type": "markdown",
   "id": "clean-belize",
   "metadata": {},
   "source": [
    "you need to create a template environment for your endpoint."
   ]
  },
  {
   "cell_type": "markdown",
   "id": "sunrise-brazilian",
   "metadata": {},
   "source": [
    "```\n",
    "$ funcx-endpoint configure pyhf\n",
    "```"
   ]
  },
  {
   "cell_type": "markdown",
   "id": "alien-motivation",
   "metadata": {},
   "source": [
    "Which will create a default `funcX` configuration file at `~/.funcx/pyhf/config.py`."
   ]
  },
  {
   "cell_type": "markdown",
   "id": "numerical-stuart",
   "metadata": {},
   "source": [
    "1. Note that `funcX` requires the use of [Gloubs](https://www.globus.org/) and so will require you to first login to a Globus account to use the `funcx-sdk`. Globus allows authentication through existing organizational logins or through Google accounts or [ORCID iD](https://orcid.org/) so this shouldn't be a barrier to use.\n",
    "2. Once you authenticate with Globus you'll then need to approve the `funcx-sdk`'s required permissions and you'll be given a time limited authorization code.\n",
    "3. Copy this code and paste it back into your terminal you ran `funcx-endpoint configure pyhf` in where you're asked to \"Please Paste your Auth Code Below\""
   ]
  },
  {
   "cell_type": "markdown",
   "id": "spatial-toddler",
   "metadata": {},
   "source": [
    "Upon success you'll see\n",
    "\n",
    "```\n",
    "A default profile has been create for <pyhf> at /home/jovyan/.funcx/pyhf/config.py\n",
    "Configure this file and try restarting with:\n",
    "    $ funcx-endpoint start pyhf\n",
    "```"
   ]
  },
  {
   "cell_type": "markdown",
   "id": "possible-parallel",
   "metadata": {},
   "source": [
    "> If you're following along you'll want to switch over to a terminal to make this part easier"
   ]
  },
  {
   "cell_type": "code",
   "execution_count": null,
   "id": "breathing-excerpt",
   "metadata": {},
   "outputs": [],
   "source": [
    "! echo \"funcx-endpoint configure pyhf\"\n",
    "! ls -l ~/.funcx/pyhf/config.py"
   ]
  },
  {
   "cell_type": "code",
   "execution_count": null,
   "id": "narrative-stationery",
   "metadata": {},
   "outputs": [],
   "source": [
    "! cat ~/.funcx/pyhf/config.py"
   ]
  },
  {
   "cell_type": "markdown",
   "id": "institutional-matrix",
   "metadata": {},
   "source": [
    "We'll go a step further though and use a prepared `funcX` configuration found under `funcX/binder-config.py`."
   ]
  },
  {
   "cell_type": "code",
   "execution_count": null,
   "id": "detected-dialogue",
   "metadata": {},
   "outputs": [],
   "source": [
    "! cp funcX/binder-config.py ~/.funcx/pyhf/config.py"
   ]
  },
  {
   "cell_type": "markdown",
   "id": "unusual-lottery",
   "metadata": {},
   "source": [
    "and then start the endpoint"
   ]
  },
  {
   "cell_type": "code",
   "execution_count": null,
   "id": "gross-senior",
   "metadata": {},
   "outputs": [],
   "source": [
    "! funcx-endpoint start pyhf"
   ]
  },
  {
   "cell_type": "markdown",
   "id": "residential-rehabilitation",
   "metadata": {},
   "source": [
    "and you can verify that it is registered and up"
   ]
  },
  {
   "cell_type": "code",
   "execution_count": null,
   "id": "modern-graphics",
   "metadata": {},
   "outputs": [],
   "source": [
    "! funcx-endpoint list"
   ]
  },
  {
   "cell_type": "markdown",
   "id": "leading-tuition",
   "metadata": {},
   "source": [
    "**N.B.**: You'll want to take careful note of this `uuid` as this is the endpoint ID that you'll have your `funcX` code use.\n",
    "\n",
    "A good way to deal with this is to save it in a `endpoint_id.txt` file that is ignored from version control."
   ]
  },
  {
   "cell_type": "code",
   "execution_count": null,
   "id": "alternative-freeware",
   "metadata": {},
   "outputs": [],
   "source": [
    "! funcx-endpoint list | grep pyhf | awk '{print $(NF-1)}' > endpoint_id.txt\n",
    "! cat endpoint_id.txt"
   ]
  },
  {
   "cell_type": "markdown",
   "id": "crude-pavilion",
   "metadata": {},
   "source": [
    "## Using funcX for (Fitting) Functions as a Service (FaaS)"
   ]
  },
  {
   "cell_type": "markdown",
   "id": "religious-editor",
   "metadata": {},
   "source": [
    "### Prepare Functions"
   ]
  },
  {
   "cell_type": "code",
   "execution_count": null,
   "id": "collectible-movie",
   "metadata": {},
   "outputs": [],
   "source": [
    "def simple_example(backend=\"numpy\", test_poi=1.0):\n",
    "    import time\n",
    "\n",
    "    import pyhf\n",
    "\n",
    "    pyhf.set_backend(backend)\n",
    "\n",
    "    tick = time.time()\n",
    "    model = pyhf.simplemodels.uncorrelated_background(\n",
    "        signal=[12.0, 11.0], bkg=[50.0, 52.0], bkg_uncertainty=[3.0, 7.0]\n",
    "    )\n",
    "\n",
    "    data = model.expected_data(model.config.suggested_init())\n",
    "    return {\n",
    "        \"cls_obs\": float(\n",
    "            pyhf.infer.hypotest(test_poi, data, model, test_stat=\"qtilde\")\n",
    "        ),\n",
    "        \"fit-time\": time.time() - tick,\n",
    "    }"
   ]
  },
  {
   "cell_type": "code",
   "execution_count": null,
   "id": "czech-tooth",
   "metadata": {},
   "outputs": [],
   "source": [
    "simple_example()"
   ]
  },
  {
   "cell_type": "code",
   "execution_count": null,
   "id": "theoretical-words",
   "metadata": {},
   "outputs": [],
   "source": [
    "# Initialize funcX client\n",
    "fxc = FuncXClient()\n",
    "fxc.max_requests = 200"
   ]
  },
  {
   "cell_type": "code",
   "execution_count": null,
   "id": "noble-young",
   "metadata": {},
   "outputs": [],
   "source": [
    "with open(\"endpoint_id.txt\") as endpoint_file:\n",
    "    pyhf_endpoint = str(endpoint_file.read().rstrip())"
   ]
  },
  {
   "cell_type": "code",
   "execution_count": null,
   "id": "opposite-spending",
   "metadata": {},
   "outputs": [],
   "source": [
    "# register functions\n",
    "infer_func = fxc.register_function(simple_example)"
   ]
  },
  {
   "cell_type": "code",
   "execution_count": null,
   "id": "naughty-discussion",
   "metadata": {},
   "outputs": [],
   "source": [
    "# Run on endpoint\n",
    "task_id = fxc.run(\n",
    "    backend=\"numpy\", test_poi=1.0, endpoint_id=pyhf_endpoint, function_id=infer_func\n",
    ")"
   ]
  },
  {
   "cell_type": "code",
   "execution_count": null,
   "id": "absent-culture",
   "metadata": {},
   "outputs": [],
   "source": [
    "# wait for it to run\n",
    "sleep(5)"
   ]
  },
  {
   "cell_type": "code",
   "execution_count": null,
   "id": "ecological-hostel",
   "metadata": {},
   "outputs": [],
   "source": [
    "# retrieve output\n",
    "result = fxc.get_result(task_id)"
   ]
  },
  {
   "cell_type": "code",
   "execution_count": null,
   "id": "moved-triumph",
   "metadata": {},
   "outputs": [],
   "source": [
    "result"
   ]
  },
  {
   "cell_type": "code",
   "execution_count": null,
   "id": "identified-priest",
   "metadata": {},
   "outputs": [],
   "source": [
    "# Run a different test POI\n",
    "task_id = fxc.run(\n",
    "    backend=\"numpy\", test_poi=2.0, endpoint_id=pyhf_endpoint, function_id=infer_func\n",
    ")\n",
    "sleep(5)\n",
    "result = fxc.get_result(task_id)"
   ]
  },
  {
   "cell_type": "code",
   "execution_count": null,
   "id": "periodic-glenn",
   "metadata": {},
   "outputs": [],
   "source": [
    "result"
   ]
  },
  {
   "cell_type": "markdown",
   "id": "serial-memorabilia",
   "metadata": {},
   "source": [
    "## funcX endpoint shutdown"
   ]
  },
  {
   "cell_type": "markdown",
   "id": "pleased-france",
   "metadata": {},
   "source": [
    "To stop a funcX endpoint from running simple use the `funcx-endpoint` CLI API again"
   ]
  },
  {
   "cell_type": "code",
   "execution_count": null,
   "id": "circular-reservation",
   "metadata": {},
   "outputs": [],
   "source": [
    "! funcx-endpoint stop pyhf\n",
    "! funcx-endpoint list"
   ]
  }
 ],
 "metadata": {
  "interpreter": {
   "hash": "bc61916ede75e2919ff33a1a319d3383b922e98fc54d7ec17a2c0b8a4b2de96d"
  },
  "kernelspec": {
   "display_name": "Python 3 (ipykernel)",
   "language": "python",
   "name": "python3"
  },
  "language_info": {
   "codemirror_mode": {
    "name": "ipython",
    "version": 3
   },
   "file_extension": ".py",
   "mimetype": "text/x-python",
   "name": "python",
   "nbconvert_exporter": "python",
   "pygments_lexer": "ipython3",
   "version": "3.8.7"
  }
 },
 "nbformat": 4,
 "nbformat_minor": 5
}
